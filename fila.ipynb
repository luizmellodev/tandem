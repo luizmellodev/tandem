{
 "cells": [
  {
   "cell_type": "code",
   "execution_count": 34,
   "metadata": {},
   "outputs": [],
   "source": [
    "# classe fila\n",
    "from tabulate import tabulate\n",
    "class FilaSimples:\n",
    "\n",
    "    def __init__(self, servidores, capacidade, min_max_temp_cheg, min_max_temp_serv, seeds) -> None:\n",
    "        self.FILA = 0\n",
    "        self.tempo = 0.0\n",
    "        self.min_max_temp_cheg = min_max_temp_cheg\n",
    "        self.min_max_temp_serv = min_max_temp_serv\n",
    "        self.seeds = seeds\n",
    "        self.seed = 0\n",
    "        self.capacidade = capacidade\n",
    "        self.servidores = servidores\n",
    "\n",
    "    def escalonador(self, tempo_inicial):\n",
    "        self.escalonador_eventos = []\n",
    "        self.tabela_estados_fila = []\n",
    "        # cria um vetor estado inicial com tamanho 3 + (capacidade + 1)\n",
    "        estado = [0.0] * (3 + (self.capacidade + 1))\n",
    "        estado[0] = None\n",
    "        estado[1] = self.FILA\n",
    "        estado[2] = self.tempo\n",
    "        # novo evento sem sorteio\n",
    "        evento = ['chegada', tempo_inicial, 0.0]\n",
    "        self.escalonador_eventos.append(evento)\n",
    "        self.tabela_estados_fila.append(estado)\n",
    "        while self.seed < len(self.seeds):\n",
    "            self.escalonador_eventos.sort( key=lambda x: x[1] )\n",
    "            evento = self.escalonador_eventos.pop(0) \n",
    "            tempo_anterior = self.tempo\n",
    "            self.tempo = evento[1]\n",
    "            if evento[0] == 'chegada':\n",
    "                if self.FILA < self.capacidade:\n",
    "                    self.FILA += 1\n",
    "                    if self.FILA <= self.servidores:\n",
    "                        self.agendaSaida(self.tempo)\n",
    "                self.agendaChegada(self.tempo)\n",
    "            elif evento[0] == 'saida':\n",
    "                self.FILA -= 1\n",
    "                if self.FILA > 0:\n",
    "                    self.agendaSaida(self.tempo)\n",
    "            \n",
    "            self.calculaEstado(evento, tempo_anterior)\n",
    "        #print(tabulate(self.tabela_estados_fila))\n",
    "        return self.tabela_estados_fila[-1]\n",
    "\n",
    "    def calculaEstado(self, evento, tempo_anterior):\n",
    "        ultimo_estado = self.tabela_estados_fila[-1]\n",
    "        ultima_fila = ultimo_estado[1]\n",
    "    \n",
    "        novo_estado = ultimo_estado.copy()\n",
    "        novo_estado[0] = evento[0]\n",
    "        novo_estado[1] = self.FILA\n",
    "        novo_estado[2] = self.tempo\n",
    "        # diferenca entre tempo atual e o anterior\n",
    "        diferenca = self.tempo - tempo_anterior\n",
    "        \n",
    "        # atualiza quanto tempo a fila ficou com a quantidade de pessoas anterior\n",
    "        # diferenca + tempo anterior da fila com a quantidade de pessoas anterior\n",
    "        novo_estado[3 + ultima_fila] = diferenca + ultimo_estado[3 + ultima_fila]\n",
    "        \n",
    "        self.tabela_estados_fila.append(novo_estado)\n",
    "\n",
    "    def _sorteio(self, min_max):\n",
    "        if self.seed == len(self.seeds):\n",
    "            return None\n",
    "        self.seed += 1\n",
    "        return (min_max[1] - min_max[0]) * self.seeds[self.seed - 1] + min_max[0]\n",
    "    \n",
    "    def agendaChegada(self, tempo):\n",
    "        sorteio = self._sorteio(self.min_max_temp_cheg)\n",
    "        evento = ['chegada', tempo + sorteio, sorteio]\n",
    "        self.escalonador_eventos.append(evento)\n",
    "        \n",
    "    def agendaSaida(self, tempo):\n",
    "        sorteio = self._sorteio(self.min_max_temp_serv)\n",
    "        evento = ['saida', tempo + sorteio, sorteio]\n",
    "        self.escalonador_eventos.append(evento)"
   ]
  },
  {
   "cell_type": "code",
   "execution_count": 9,
   "metadata": {},
   "outputs": [],
   "source": [
    "seeds = [0.3276, 0.8851, 0.1643, 0.5542, 0.6813, 0.7221, 0.9881]\n",
    "min_max_tempo_chegada = [1, 2]\n",
    "min_max_tempo_servico = [3, 6]"
   ]
  },
  {
   "cell_type": "code",
   "execution_count": 35,
   "metadata": {},
   "outputs": [],
   "source": [
    "seeds = [0.3276, 0.8851, 0.1643, 0.5542, 0.6813]\n",
    "min_max_tempo_chegada = [1, 3]\n",
    "min_max_tempo_servico = [2, 4]"
   ]
  },
  {
   "cell_type": "code",
   "execution_count": null,
   "metadata": {},
   "outputs": [],
   "source": []
  },
  {
   "cell_type": "code",
   "execution_count": 53,
   "metadata": {},
   "outputs": [
    {
     "name": "stdout",
     "output_type": "stream",
     "text": [
      "------  ------  ------  -------  -------  -------  -------\n",
      "119786  3       3.2768   6.1816  131.403  42906.1  76736.1\n",
      "120038  3       1.851    6.6982  149.827  42764.5  77111.8\n",
      "119993  3.3144  7.3736   6.595   153.717  42907.6  76914.6\n",
      "119828  3       6.0292  22.1003  171.096  43174.2  76451.8\n",
      "119666  3       1.813    1.9054  114.977  42718.3  76826.1\n",
      "------  ------  ------  -------  -------  -------  -------\n",
      "[119862.2295      3.0629      4.0687      8.6961    144.2039  42894.1416\n",
      "  76808.0563]\n",
      "-  ------------  ------------\n",
      "0       3.06288    0.00255533\n",
      "1       4.06872    0.0033945\n",
      "2       8.69609    0.00725507\n",
      "3     144.204      0.120308\n",
      "4   42894.1       35.7862\n",
      "5   76808.1       64.0803\n",
      "   119862        100\n",
      "-  ------------  ------------\n"
     ]
    }
   ],
   "source": [
    "import numpy as np\n",
    "simulados = []\n",
    "for seed in seeds:\n",
    "    iter = createSeeds(seed, 100000)\n",
    "    fila = FilaSimples(1, 5, min_max_tempo_chegada, min_max_tempo_servico, iter)\n",
    "    estados = fila.escalonador(3.0)\n",
    "    simulados.append(estados[2:])\n",
    "    \n",
    "print(tabulate(simulados))\n",
    "# Convert the data to a NumPy array\n",
    "data_array = np.array(simulados)\n",
    "\n",
    "# Calculate the mean of each column\n",
    "column_means = np.mean(data_array, axis=0)\n",
    "# Set the print options to format with 2 decimal places\n",
    "np.set_printoptions(precision=4, suppress=True)\n",
    "print(column_means)\n",
    "print(tabulate(calculaResultados(column_means, 5)))"
   ]
  },
  {
   "cell_type": "code",
   "execution_count": 54,
   "metadata": {},
   "outputs": [],
   "source": [
    "def calculaResultados(lista, capacidade):\n",
    "    resultados = []\n",
    "    for i in range(capacidade + 1):\n",
    "        resultado = [i, lista[i + 1], (lista[i + 1] / lista[0]) * 100]\n",
    "        resultados.append(resultado)\n",
    "    resultados.append(['TOTAL', lista[0], 100])\n",
    "    return resultados"
   ]
  },
  {
   "cell_type": "code",
   "execution_count": 29,
   "metadata": {},
   "outputs": [],
   "source": [
    "def createSeeds(seed, n):\n",
    "    seeds = []\n",
    "    for i in range(n):\n",
    "        seeds.append(seed)\n",
    "        seed = (seed * 5) % 1\n",
    "    return seeds"
   ]
  },
  {
   "cell_type": "code",
   "execution_count": null,
   "metadata": {},
   "outputs": [],
   "source": []
  }
 ],
 "metadata": {
  "kernelspec": {
   "display_name": "Python 3",
   "language": "python",
   "name": "python3"
  },
  "language_info": {
   "codemirror_mode": {
    "name": "ipython",
    "version": 3
   },
   "file_extension": ".py",
   "mimetype": "text/x-python",
   "name": "python",
   "nbconvert_exporter": "python",
   "pygments_lexer": "ipython3",
   "version": "3.10.11"
  },
  "orig_nbformat": 4
 },
 "nbformat": 4,
 "nbformat_minor": 2
}
